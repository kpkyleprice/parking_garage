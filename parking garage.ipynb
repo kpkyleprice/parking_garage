{
 "cells": [
  {
   "cell_type": "code",
   "execution_count": null,
   "id": "83ded8f3",
   "metadata": {},
   "outputs": [],
   "source": [
    "\n"
   ]
  },
  {
   "cell_type": "code",
   "execution_count": 1,
   "id": "492da2ed",
   "metadata": {},
   "outputs": [
    {
     "name": "stdout",
     "output_type": "stream",
     "text": [
      "Please take your ticket.\n",
      "None\n",
      "[2, 3, 4, 5, 6, 7]\n",
      "[2, 3, 4, 5, 6, 7]\n",
      "Your ticket has been paid. You have 15 minutes to leave the garage.\n",
      "None\n",
      "True\n",
      "Thank you, have a nice day!\n",
      "None\n",
      "[2, 3, 4, 5, 6, 7, 1]\n",
      "[2, 3, 4, 5, 6, 7, 1]\n"
     ]
    }
   ],
   "source": [
    "class parkingGarage():\n",
    "    def __init__(self, tickets, parkingSpaces, parkTicket):\n",
    "        self.tickets = tickets\n",
    "        self.parkingSpaces = parkingSpaces\n",
    "        self.parkTicket = parkTicket\n",
    "\n",
    "    def takeTicket(self):\n",
    "        self.tickets.remove(1)\n",
    "        self.parkingSpaces.remove(1)\n",
    "        print('Please take your ticket.')\n",
    "        \n",
    "    def payForParking(self):\n",
    "        amount = input('Enter amount: $  ')\n",
    "        if amount == '':\n",
    "            print('Please pay your ticket.')\n",
    "        else:\n",
    "            print('Your ticket has been paid. You have 15 minutes to leave the garage.')\n",
    "        self.parkTicket['paid'] = True\n",
    "    \n",
    "    def leaveGarage(self):\n",
    "        if True in self.parkTicket.values():\n",
    "            print(f'Thank you, have a nice day!')\n",
    "        else:\n",
    "            amount = input('Enter amount: $  ')\n",
    "            if amount == '':\n",
    "                print('Please pay your ticket.')\n",
    "            else:\n",
    "                print(f'Thank you, have a nice day!')\n",
    "        self.parkingSpaces.append(1)\n",
    "        self.tickets.append(1)\n",
    "        \n",
    "\n",
    "my_parkingGarage = parkingGarage([1, 2, 3, 4, 5, 6, 7], [1, 2, 3, 4, 5, 6, 7], {})\n",
    "print(my_parkingGarage.takeTicket())\n",
    "print(my_parkingGarage.tickets)\n",
    "print(my_parkingGarage.parkingSpaces)\n",
    "\n",
    "print(my_parkingGarage.payForParking())\n",
    "print(my_parkingGarage.parkTicket['paid'])\n",
    "\n",
    "print(my_parkingGarage.leaveGarage())\n",
    "print(my_parkingGarage.tickets)\n",
    "print(my_parkingGarage.parkingSpaces)"
   ]
  },
  {
   "cell_type": "code",
   "execution_count": null,
   "id": "688516ce",
   "metadata": {},
   "outputs": [],
   "source": []
  },
  {
   "cell_type": "code",
   "execution_count": null,
   "id": "4491b804",
   "metadata": {},
   "outputs": [],
   "source": []
  }
 ],
 "metadata": {
  "kernelspec": {
   "display_name": "Python 3 (ipykernel)",
   "language": "python",
   "name": "python3"
  },
  "language_info": {
   "codemirror_mode": {
    "name": "ipython",
    "version": 3
   },
   "file_extension": ".py",
   "mimetype": "text/x-python",
   "name": "python",
   "nbconvert_exporter": "python",
   "pygments_lexer": "ipython3",
   "version": "3.11.2"
  }
 },
 "nbformat": 4,
 "nbformat_minor": 5
}
